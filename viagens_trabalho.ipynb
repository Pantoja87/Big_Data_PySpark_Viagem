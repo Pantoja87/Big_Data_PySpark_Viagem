{
 "cells": [
  {
   "cell_type": "code",
   "execution_count": 2,
   "metadata": {
    "ExecuteTime": {
     "end_time": "2019-09-19T15:22:08.900938Z",
     "start_time": "2019-09-19T15:22:08.888927Z"
    }
   },
   "outputs": [],
   "source": [
    "import findspark\n",
    "findspark.init ('C:/SPARK_HOME/')"
   ]
  },
  {
   "cell_type": "code",
   "execution_count": 4,
   "metadata": {
    "ExecuteTime": {
     "end_time": "2019-09-19T15:22:42.700840Z",
     "start_time": "2019-09-19T15:22:42.360570Z"
    }
   },
   "outputs": [],
   "source": [
    "import sys\n",
    "import pyspark \n",
    "\n",
    "from pyspark.sql import SparkSession\n",
    "from pyspark import SparkContext, SparkConf"
   ]
  },
  {
   "cell_type": "code",
   "execution_count": 6,
   "metadata": {
    "ExecuteTime": {
     "end_time": "2019-09-19T15:22:55.824094Z",
     "start_time": "2019-09-19T15:22:50.506288Z"
    }
   },
   "outputs": [],
   "source": [
    "spark = SparkSession.builder.getOrCreate()\n",
    "sc = SparkContext.getOrCreate()\n",
    " "
   ]
  },
  {
   "cell_type": "code",
   "execution_count": 33,
   "metadata": {
    "ExecuteTime": {
     "end_time": "2019-09-19T15:35:23.081532Z",
     "start_time": "2019-09-19T15:35:22.441517Z"
    }
   },
   "outputs": [],
   "source": [
    "viagens = spark.read.format(\"csv\").option('header',True).option(\"encoding\", \"ISO-8859-1\").option(\"delimiter\", \";\").option(\"ESCAPE quote\", '\"').csv('C:\\SPARK_HOME\\datasets\\Viagem.csv')"
   ]
  },
  {
   "cell_type": "code",
   "execution_count": 34,
   "metadata": {
    "ExecuteTime": {
     "end_time": "2019-09-19T15:35:43.457971Z",
     "start_time": "2019-09-19T15:35:23.705078Z"
    }
   },
   "outputs": [],
   "source": [
    "viagens = viagens.toPandas()"
   ]
  },
  {
   "cell_type": "code",
   "execution_count": 35,
   "metadata": {
    "ExecuteTime": {
     "end_time": "2019-09-19T15:35:48.707985Z",
     "start_time": "2019-09-19T15:35:46.272172Z"
    }
   },
   "outputs": [],
   "source": [
    "viagens =viagens.sort_values('nm_viajante')"
   ]
  },
  {
   "cell_type": "code",
   "execution_count": 36,
   "metadata": {
    "ExecuteTime": {
     "end_time": "2019-09-19T15:35:50.992101Z",
     "start_time": "2019-09-19T15:35:49.407249Z"
    }
   },
   "outputs": [
    {
     "name": "stdout",
     "output_type": "stream",
     "text": [
      "<class 'pandas.core.frame.DataFrame'>\n",
      "Int64Index: 468015 entries, 392321 to 377777\n",
      "Data columns (total 16 columns):\n",
      "id_viagem               468015 non-null object\n",
      "situacao                468015 non-null object\n",
      "cd_orgao_superior       468015 non-null object\n",
      "nm_orgao_superior       468015 non-null object\n",
      "cd_orgao_solicitante    468015 non-null object\n",
      "nm_orgao_solicitante    468015 non-null object\n",
      "nr_cpf_viajante         468011 non-null object\n",
      "nm_viajante             468015 non-null object\n",
      "cargo                   336589 non-null object\n",
      "dt_inicio               468015 non-null object\n",
      "dt_fim                  468015 non-null object\n",
      "destino                 468015 non-null object\n",
      "Motivo                  468015 non-null object\n",
      "Vlr_diarias             468015 non-null object\n",
      "Vlr_passagens           468015 non-null object\n",
      "Vlr_outros_gastos       468013 non-null object\n",
      "dtypes: object(16)\n",
      "memory usage: 60.7+ MB\n"
     ]
    }
   ],
   "source": [
    "viagens.info()"
   ]
  },
  {
   "cell_type": "code",
   "execution_count": 38,
   "metadata": {
    "ExecuteTime": {
     "end_time": "2019-09-19T15:36:13.293476Z",
     "start_time": "2019-09-19T15:36:12.135060Z"
    }
   },
   "outputs": [],
   "source": [
    "viagens.loc[viagens.nr_cpf_viajante.isna()==True,'nr_cpf_viajante']='Não infomado'"
   ]
  },
  {
   "cell_type": "code",
   "execution_count": 37,
   "metadata": {
    "ExecuteTime": {
     "end_time": "2019-09-19T15:36:06.047909Z",
     "start_time": "2019-09-19T15:36:04.911600Z"
    }
   },
   "outputs": [],
   "source": [
    "viagens.loc[viagens.cargo.isna()==True,'cargo']='Não infomado'"
   ]
  },
  {
   "cell_type": "code",
   "execution_count": 39,
   "metadata": {
    "ExecuteTime": {
     "end_time": "2019-09-19T15:36:15.163468Z",
     "start_time": "2019-09-19T15:36:14.231788Z"
    }
   },
   "outputs": [],
   "source": [
    "viagens.loc[viagens.Vlr_outros_gastos.isna()==True,'Vlr_outros_gastos']=0"
   ]
  },
  {
   "cell_type": "code",
   "execution_count": 40,
   "metadata": {
    "ExecuteTime": {
     "end_time": "2019-09-19T15:36:16.846830Z",
     "start_time": "2019-09-19T15:36:15.778033Z"
    }
   },
   "outputs": [
    {
     "data": {
      "text/plain": [
       "id_viagem               0\n",
       "situacao                0\n",
       "cd_orgao_superior       0\n",
       "nm_orgao_superior       0\n",
       "cd_orgao_solicitante    0\n",
       "nm_orgao_solicitante    0\n",
       "nr_cpf_viajante         0\n",
       "nm_viajante             0\n",
       "cargo                   0\n",
       "dt_inicio               0\n",
       "dt_fim                  0\n",
       "destino                 0\n",
       "Motivo                  0\n",
       "Vlr_diarias             0\n",
       "Vlr_passagens           0\n",
       "Vlr_outros_gastos       0\n",
       "dtype: int64"
      ]
     },
     "execution_count": 40,
     "metadata": {},
     "output_type": "execute_result"
    }
   ],
   "source": [
    "viagens.isna().sum()"
   ]
  },
  {
   "cell_type": "code",
   "execution_count": 52,
   "metadata": {
    "ExecuteTime": {
     "end_time": "2019-09-19T15:52:50.338031Z",
     "start_time": "2019-09-19T15:52:43.058645Z"
    }
   },
   "outputs": [],
   "source": [
    "#index = False para não gera coluna extra.\n",
    "viagens.to_csv('C:/SPARK_HOME/datasets/viagem_ajustado.csv',index=False)"
   ]
  },
  {
   "cell_type": "code",
   "execution_count": 53,
   "metadata": {
    "ExecuteTime": {
     "end_time": "2019-09-19T15:52:51.563381Z",
     "start_time": "2019-09-19T15:52:51.322171Z"
    }
   },
   "outputs": [],
   "source": [
    "viagens_ajustado = spark.read.format(\"csv\").option('header',True).option(\"encoding\", \"UTF-8\").option(\"delimiter\", \",\").option(\"ESCAPE quote\", '\"').csv('C:\\SPARK_HOME\\datasets\\Viagem_ajustado.csv')"
   ]
  },
  {
   "cell_type": "code",
   "execution_count": 54,
   "metadata": {
    "ExecuteTime": {
     "end_time": "2019-09-19T15:52:55.131629Z",
     "start_time": "2019-09-19T15:52:55.018345Z"
    }
   },
   "outputs": [
    {
     "data": {
      "text/plain": [
       "[Row(id_viagem='0000000000016280823', situacao='Realizada', cd_orgao_superior='36000', nm_orgao_superior='Ministério da Saúde', cd_orgao_solicitante='36000', nm_orgao_solicitante='Ministério da Saúde - Unidades com vínculo direto', nr_cpf_viajante='***.000.000-**', nm_viajante='AAPARECIDA JOANA  DA CONCEIÇÃO QUIRINO', cargo='Não infomado', dt_inicio='31/05/2019', dt_fim='31/05/2019', destino='Mirandiba/PE', Motivo='ACOMPANHANTE DE PACIENTE INDÍGENA EM TRATAMENTO NA REFERENCIA III', Vlr_diarias='0,00', Vlr_passagens='101,50', Vlr_outros_gastos='0,00'),\n",
       " Row(id_viagem='0000000000016105114', situacao='Realizada', cd_orgao_superior='26000', nm_orgao_superior='Ministério da Educação', cd_orgao_solicitante='26239', nm_orgao_solicitante='Universidade Federal do Pará', nr_cpf_viajante='***.116.132-**', nm_viajante='AARAO FERREIRA LIMA NETO', cargo='PROFESSOR DO MAGISTERIO SUPERIOR', dt_inicio='21/05/2019', dt_fim='23/05/2019', destino='Belém/PA', Motivo='Participar  3ª Reunião Ordinária do CONSAD, a se realizar no dia 22.05.2019, às 9h, na Sala de Reuniões da Secretaria-Geral (SEGE) em Belém.', Vlr_diarias='439,04', Vlr_passagens='0,00', Vlr_outros_gastos='0,00'),\n",
       " Row(id_viagem='0000000000016247022', situacao='Realizada', cd_orgao_superior='26000', nm_orgao_superior='Ministério da Educação', cd_orgao_solicitante='26239', nm_orgao_solicitante='Universidade Federal do Pará', nr_cpf_viajante='***.116.132-**', nm_viajante='AARAO FERREIRA LIMA NETO', cargo='PROFESSOR DO MAGISTERIO SUPERIOR', dt_inicio='03/07/2019', dt_fim='05/07/2019', destino='Belém/PA', Motivo='Participar da 4ª Reunião Ordinária do CONSAD, a se realizar no dia 04.07.2019, às 9h, na Sala de Reuniões da Secretaria-Geral (SEGE) no prédio da Reitoria.', Vlr_diarias='439,04', Vlr_passagens='0,00', Vlr_outros_gastos='0,00'),\n",
       " Row(id_viagem='0000000000015780719', situacao='Realizada', cd_orgao_superior='26000', nm_orgao_superior='Ministério da Educação', cd_orgao_solicitante='26239', nm_orgao_solicitante='Universidade Federal do Pará', nr_cpf_viajante='***.116.132-**', nm_viajante='AARAO FERREIRA LIMA NETO', cargo='PROFESSOR DO MAGISTERIO SUPERIOR', dt_inicio='22/01/2019', dt_fim='24/01/2019', destino='Belém/PA', Motivo='Participar da 1ª Reunião Ordinária do CONSAD e da 1ª Reunião Ordinária do CONSUN, em Belém no dia 23/01/2019.', Vlr_diarias='439,04', Vlr_passagens='0,00', Vlr_outros_gastos='0,00'),\n",
       " Row(id_viagem='0000000000016201788', situacao='Realizada', cd_orgao_superior='26000', nm_orgao_superior='Ministério da Educação', cd_orgao_solicitante='26239', nm_orgao_solicitante='Universidade Federal do Pará', nr_cpf_viajante='***.116.132-**', nm_viajante='AARAO FERREIRA LIMA NETO', cargo='PROFESSOR DO MAGISTERIO SUPERIOR', dt_inicio='23/06/2019', dt_fim='25/06/2019', destino='Sem informação', Motivo='Participar da 1ª Reunião Extraordinária do CONSUN, no próximo dia 24 de junho de 2019, às 9h na SEGE.', Vlr_diarias='459,86', Vlr_passagens='0,00', Vlr_outros_gastos='0,00'),\n",
       " Row(id_viagem='0000000000015775930', situacao='Realizada', cd_orgao_superior='30000', nm_orgao_superior='Ministério da Justiça e Segurança Pública', cd_orgao_solicitante='30000', nm_orgao_solicitante='Ministério da Justiça e Segurança Pública - Unidades com vínculo direto', nr_cpf_viajante='***.299.644-**', nm_viajante='AAROM ELEOTERIO VALENTIM DE SANTANA', cargo='Não infomado', dt_inicio='16/01/2019', dt_fim='30/01/2019', destino='Itabaiana/SE', Motivo='Nova PCDP, após encerramento do exercício anual de 2018, tendo em vista que o proposto permanece mobilizado para dar continuidade aos trabalhos desenvolvidos pela Diretoria da Força Nacional de Segurança Pública e a SENASP na manutenção da ordem pública nos Estados atendidos pelo PRONASCI e que o DFNSP está desenvolvendo missões. Centro de Custo de Passagens - 116C04.', Vlr_diarias='2655,00', Vlr_passagens='0,00', Vlr_outros_gastos='0,00'),\n",
       " Row(id_viagem='0000000000015831046', situacao='Realizada', cd_orgao_superior='-1', nm_orgao_superior='Sem informação', cd_orgao_solicitante='-1', nm_orgao_solicitante='Sem informação', nr_cpf_viajante='***.299.644-**', nm_viajante='AAROM ELEOTERIO VALENTIM DE SANTANA', cargo='Não infomado', dt_inicio='31/01/2019', dt_fim='11/05/2019', destino='Itabaiana/SE, Itabaiana/SE, Aracaju/SE, Belém/PA', Motivo='Continuidade da PCDP 000541/19, por mudança na estrutura regimental do MJSP no Sistema SCDP, o proposto permanece mobilizado para dar continuidade aos trabalhos desenvolvidos pela Diretoria da Força Nacional de Segurança Pública e a SENASP na manutenção da ordem pública nos Estados.  Centro de Custo de Passagens - 116C04.', Vlr_diarias='18024,50', Vlr_passagens='608,85', Vlr_outros_gastos='0,00'),\n",
       " Row(id_viagem='0000000000016035383', situacao='Realizada', cd_orgao_superior='26000', nm_orgao_superior='Ministério da Educação', cd_orgao_solicitante='26431', nm_orgao_solicitante='Instituto Federal do Piauí', nr_cpf_viajante='***.291.814-**', nm_viajante='AARON DE SOUSA ALVES', cargo='PROFESSOR ENS BASICO TECN TECNOLOGICO', dt_inicio='24/04/2019', dt_fim='27/04/2019', destino='Teresina/PI', Motivo='O servidor participará da Formação dos Gestores de Ensino, nos dias 25 e 26 de abril de 2019, no IFPI - Campus Teresina Central.', Vlr_diarias='734,64', Vlr_passagens='0,00', Vlr_outros_gastos='95,00'),\n",
       " Row(id_viagem='0000000000016043416', situacao='Realizada', cd_orgao_superior='26000', nm_orgao_superior='Ministério da Educação', cd_orgao_solicitante='26274', nm_orgao_solicitante='Fundação Universidade Federal de Uberlândia', nr_cpf_viajante='***.201.086-**', nm_viajante='ABADIA ADENISIA ROCHA E SILVA', cargo='ASSISTENTE EM ADMINISTRAçãO', dt_inicio='27/04/2019', dt_fim='28/04/2019', destino='Uberaba/MG', Motivo='TÉCNICO RESPONSÁVEL  - Realizar o Evento Regional dos três núcleos que representam as empresas juniores do triângulo mineiro; Período do evento: 27 a 28 de abril de 2019', Vlr_diarias='265,50', Vlr_passagens='0,00', Vlr_outros_gastos='0,00'),\n",
       " Row(id_viagem='0000000000016364026', situacao='Realizada', cd_orgao_superior='26000', nm_orgao_superior='Ministério da Educação', cd_orgao_solicitante='26000', nm_orgao_solicitante='Ministério da Educação - Unidades com vínculo direto', nr_cpf_viajante='***.134.911-**', nm_viajante='ABADIA DE LOURDES DA CUNHA', cargo='Não infomado', dt_inicio='25/08/2019', dt_fim='27/08/2019', destino='São Paulo/SP', Motivo='07/08/1962. Participar do Encontro Formativo do ProBNCC, que acontecerá no dia 26 de agosto de 2019, das 8h às 18h, e no dia 27 de agosto de 2019, das 8h às 17h30, em São Paulo - SP.', Vlr_diarias='0,00', Vlr_passagens='1259,70', Vlr_outros_gastos='0,00')]"
      ]
     },
     "execution_count": 54,
     "metadata": {},
     "output_type": "execute_result"
    }
   ],
   "source": [
    "viagens_ajustado.take(10)"
   ]
  },
  {
   "cell_type": "code",
   "execution_count": 58,
   "metadata": {
    "ExecuteTime": {
     "end_time": "2019-09-19T15:56:37.500823Z",
     "start_time": "2019-09-19T15:56:19.934213Z"
    }
   },
   "outputs": [],
   "source": [
    "#transformando em padas para analise\n",
    "viagens_ajust_pandas = viagens_ajustado.toPandas()"
   ]
  },
  {
   "cell_type": "code",
   "execution_count": 59,
   "metadata": {
    "ExecuteTime": {
     "end_time": "2019-09-19T15:56:38.265984Z",
     "start_time": "2019-09-19T15:56:38.197918Z"
    }
   },
   "outputs": [
    {
     "data": {
      "text/html": [
       "<div>\n",
       "<style scoped>\n",
       "    .dataframe tbody tr th:only-of-type {\n",
       "        vertical-align: middle;\n",
       "    }\n",
       "\n",
       "    .dataframe tbody tr th {\n",
       "        vertical-align: top;\n",
       "    }\n",
       "\n",
       "    .dataframe thead th {\n",
       "        text-align: right;\n",
       "    }\n",
       "</style>\n",
       "<table border=\"1\" class=\"dataframe\">\n",
       "  <thead>\n",
       "    <tr style=\"text-align: right;\">\n",
       "      <th></th>\n",
       "      <th>id_viagem</th>\n",
       "      <th>situacao</th>\n",
       "      <th>cd_orgao_superior</th>\n",
       "      <th>nm_orgao_superior</th>\n",
       "      <th>cd_orgao_solicitante</th>\n",
       "      <th>nm_orgao_solicitante</th>\n",
       "      <th>nr_cpf_viajante</th>\n",
       "      <th>nm_viajante</th>\n",
       "      <th>cargo</th>\n",
       "      <th>dt_inicio</th>\n",
       "      <th>dt_fim</th>\n",
       "      <th>destino</th>\n",
       "      <th>Motivo</th>\n",
       "      <th>Vlr_diarias</th>\n",
       "      <th>Vlr_passagens</th>\n",
       "      <th>Vlr_outros_gastos</th>\n",
       "    </tr>\n",
       "  </thead>\n",
       "  <tbody>\n",
       "    <tr>\n",
       "      <th>0</th>\n",
       "      <td>0000000000016280823</td>\n",
       "      <td>Realizada</td>\n",
       "      <td>36000</td>\n",
       "      <td>Ministério da Saúde</td>\n",
       "      <td>36000</td>\n",
       "      <td>Ministério da Saúde - Unidades com vínculo direto</td>\n",
       "      <td>***.000.000-**</td>\n",
       "      <td>AAPARECIDA JOANA  DA CONCEIÇÃO QUIRINO</td>\n",
       "      <td>Não infomado</td>\n",
       "      <td>31/05/2019</td>\n",
       "      <td>31/05/2019</td>\n",
       "      <td>Mirandiba/PE</td>\n",
       "      <td>ACOMPANHANTE DE PACIENTE INDÍGENA EM TRATAMENT...</td>\n",
       "      <td>0,00</td>\n",
       "      <td>101,50</td>\n",
       "      <td>0,00</td>\n",
       "    </tr>\n",
       "    <tr>\n",
       "      <th>1</th>\n",
       "      <td>0000000000016105114</td>\n",
       "      <td>Realizada</td>\n",
       "      <td>26000</td>\n",
       "      <td>Ministério da Educação</td>\n",
       "      <td>26239</td>\n",
       "      <td>Universidade Federal do Pará</td>\n",
       "      <td>***.116.132-**</td>\n",
       "      <td>AARAO FERREIRA LIMA NETO</td>\n",
       "      <td>PROFESSOR DO MAGISTERIO SUPERIOR</td>\n",
       "      <td>21/05/2019</td>\n",
       "      <td>23/05/2019</td>\n",
       "      <td>Belém/PA</td>\n",
       "      <td>Participar  3ª Reunião Ordinária do CONSAD, a ...</td>\n",
       "      <td>439,04</td>\n",
       "      <td>0,00</td>\n",
       "      <td>0,00</td>\n",
       "    </tr>\n",
       "    <tr>\n",
       "      <th>2</th>\n",
       "      <td>0000000000016247022</td>\n",
       "      <td>Realizada</td>\n",
       "      <td>26000</td>\n",
       "      <td>Ministério da Educação</td>\n",
       "      <td>26239</td>\n",
       "      <td>Universidade Federal do Pará</td>\n",
       "      <td>***.116.132-**</td>\n",
       "      <td>AARAO FERREIRA LIMA NETO</td>\n",
       "      <td>PROFESSOR DO MAGISTERIO SUPERIOR</td>\n",
       "      <td>03/07/2019</td>\n",
       "      <td>05/07/2019</td>\n",
       "      <td>Belém/PA</td>\n",
       "      <td>Participar da 4ª Reunião Ordinária do CONSAD, ...</td>\n",
       "      <td>439,04</td>\n",
       "      <td>0,00</td>\n",
       "      <td>0,00</td>\n",
       "    </tr>\n",
       "    <tr>\n",
       "      <th>3</th>\n",
       "      <td>0000000000015780719</td>\n",
       "      <td>Realizada</td>\n",
       "      <td>26000</td>\n",
       "      <td>Ministério da Educação</td>\n",
       "      <td>26239</td>\n",
       "      <td>Universidade Federal do Pará</td>\n",
       "      <td>***.116.132-**</td>\n",
       "      <td>AARAO FERREIRA LIMA NETO</td>\n",
       "      <td>PROFESSOR DO MAGISTERIO SUPERIOR</td>\n",
       "      <td>22/01/2019</td>\n",
       "      <td>24/01/2019</td>\n",
       "      <td>Belém/PA</td>\n",
       "      <td>Participar da 1ª Reunião Ordinária do CONSAD e...</td>\n",
       "      <td>439,04</td>\n",
       "      <td>0,00</td>\n",
       "      <td>0,00</td>\n",
       "    </tr>\n",
       "    <tr>\n",
       "      <th>4</th>\n",
       "      <td>0000000000016201788</td>\n",
       "      <td>Realizada</td>\n",
       "      <td>26000</td>\n",
       "      <td>Ministério da Educação</td>\n",
       "      <td>26239</td>\n",
       "      <td>Universidade Federal do Pará</td>\n",
       "      <td>***.116.132-**</td>\n",
       "      <td>AARAO FERREIRA LIMA NETO</td>\n",
       "      <td>PROFESSOR DO MAGISTERIO SUPERIOR</td>\n",
       "      <td>23/06/2019</td>\n",
       "      <td>25/06/2019</td>\n",
       "      <td>Sem informação</td>\n",
       "      <td>Participar da 1ª Reunião Extraordinária do CON...</td>\n",
       "      <td>459,86</td>\n",
       "      <td>0,00</td>\n",
       "      <td>0,00</td>\n",
       "    </tr>\n",
       "  </tbody>\n",
       "</table>\n",
       "</div>"
      ],
      "text/plain": [
       "             id_viagem   situacao cd_orgao_superior       nm_orgao_superior  \\\n",
       "0  0000000000016280823  Realizada             36000     Ministério da Saúde   \n",
       "1  0000000000016105114  Realizada             26000  Ministério da Educação   \n",
       "2  0000000000016247022  Realizada             26000  Ministério da Educação   \n",
       "3  0000000000015780719  Realizada             26000  Ministério da Educação   \n",
       "4  0000000000016201788  Realizada             26000  Ministério da Educação   \n",
       "\n",
       "  cd_orgao_solicitante                               nm_orgao_solicitante  \\\n",
       "0                36000  Ministério da Saúde - Unidades com vínculo direto   \n",
       "1                26239                       Universidade Federal do Pará   \n",
       "2                26239                       Universidade Federal do Pará   \n",
       "3                26239                       Universidade Federal do Pará   \n",
       "4                26239                       Universidade Federal do Pará   \n",
       "\n",
       "  nr_cpf_viajante                             nm_viajante  \\\n",
       "0  ***.000.000-**  AAPARECIDA JOANA  DA CONCEIÇÃO QUIRINO   \n",
       "1  ***.116.132-**                AARAO FERREIRA LIMA NETO   \n",
       "2  ***.116.132-**                AARAO FERREIRA LIMA NETO   \n",
       "3  ***.116.132-**                AARAO FERREIRA LIMA NETO   \n",
       "4  ***.116.132-**                AARAO FERREIRA LIMA NETO   \n",
       "\n",
       "                              cargo   dt_inicio      dt_fim         destino  \\\n",
       "0                      Não infomado  31/05/2019  31/05/2019    Mirandiba/PE   \n",
       "1  PROFESSOR DO MAGISTERIO SUPERIOR  21/05/2019  23/05/2019        Belém/PA   \n",
       "2  PROFESSOR DO MAGISTERIO SUPERIOR  03/07/2019  05/07/2019        Belém/PA   \n",
       "3  PROFESSOR DO MAGISTERIO SUPERIOR  22/01/2019  24/01/2019        Belém/PA   \n",
       "4  PROFESSOR DO MAGISTERIO SUPERIOR  23/06/2019  25/06/2019  Sem informação   \n",
       "\n",
       "                                              Motivo Vlr_diarias  \\\n",
       "0  ACOMPANHANTE DE PACIENTE INDÍGENA EM TRATAMENT...        0,00   \n",
       "1  Participar  3ª Reunião Ordinária do CONSAD, a ...      439,04   \n",
       "2  Participar da 4ª Reunião Ordinária do CONSAD, ...      439,04   \n",
       "3  Participar da 1ª Reunião Ordinária do CONSAD e...      439,04   \n",
       "4  Participar da 1ª Reunião Extraordinária do CON...      459,86   \n",
       "\n",
       "  Vlr_passagens Vlr_outros_gastos  \n",
       "0        101,50              0,00  \n",
       "1          0,00              0,00  \n",
       "2          0,00              0,00  \n",
       "3          0,00              0,00  \n",
       "4          0,00              0,00  "
      ]
     },
     "execution_count": 59,
     "metadata": {},
     "output_type": "execute_result"
    }
   ],
   "source": [
    "viagens_ajust_pandas.head()"
   ]
  },
  {
   "cell_type": "code",
   "execution_count": null,
   "metadata": {},
   "outputs": [],
   "source": []
  }
 ],
 "metadata": {
  "kernelspec": {
   "display_name": "Python 3",
   "language": "python",
   "name": "python3"
  },
  "language_info": {
   "codemirror_mode": {
    "name": "ipython",
    "version": 3
   },
   "file_extension": ".py",
   "mimetype": "text/x-python",
   "name": "python",
   "nbconvert_exporter": "python",
   "pygments_lexer": "ipython3",
   "version": "3.7.1"
  },
  "toc": {
   "base_numbering": 1,
   "nav_menu": {},
   "number_sections": true,
   "sideBar": true,
   "skip_h1_title": false,
   "title_cell": "Table of Contents",
   "title_sidebar": "Contents",
   "toc_cell": false,
   "toc_position": {},
   "toc_section_display": true,
   "toc_window_display": false
  },
  "varInspector": {
   "cols": {
    "lenName": 16,
    "lenType": 16,
    "lenVar": 40
   },
   "kernels_config": {
    "python": {
     "delete_cmd_postfix": "",
     "delete_cmd_prefix": "del ",
     "library": "var_list.py",
     "varRefreshCmd": "print(var_dic_list())"
    },
    "r": {
     "delete_cmd_postfix": ") ",
     "delete_cmd_prefix": "rm(",
     "library": "var_list.r",
     "varRefreshCmd": "cat(var_dic_list()) "
    }
   },
   "types_to_exclude": [
    "module",
    "function",
    "builtin_function_or_method",
    "instance",
    "_Feature"
   ],
   "window_display": false
  }
 },
 "nbformat": 4,
 "nbformat_minor": 2
}
