{
 "cells": [
  {
   "cell_type": "code",
   "execution_count": 122,
   "metadata": {
    "ExecuteTime": {
     "end_time": "2019-09-24T03:35:48.615612Z",
     "start_time": "2019-09-24T03:35:48.606619Z"
    }
   },
   "outputs": [],
   "source": [
    "import findspark\n",
    "import os\n",
    "\n",
    "findspark.init(os.environ.get('SPARK_HOME'))\n",
    "\n",
    "from pyspark import SparkContext, SparkConf\n",
    "from pyspark.sql import SparkSession\n",
    "import pyspark.sql.functions as functions\n",
    "from decimal import Decimal"
   ]
  },
  {
   "cell_type": "code",
   "execution_count": 123,
   "metadata": {
    "ExecuteTime": {
     "end_time": "2019-09-24T03:35:48.724709Z",
     "start_time": "2019-09-24T03:35:48.619723Z"
    }
   },
   "outputs": [],
   "source": [
    "spark = SparkSession.builder.appName(\"GastoMinisterio\").getOrCreate()"
   ]
  },
  {
   "cell_type": "code",
   "execution_count": 124,
   "metadata": {
    "ExecuteTime": {
     "end_time": "2019-09-24T03:35:49.385632Z",
     "start_time": "2019-09-24T03:35:48.727841Z"
    }
   },
   "outputs": [],
   "source": [
    "df = spark.read.format(\"csv\").option(\"header\", True).option(\"delimiter\", \";\").option('encoding', 'windows-1252').csv('/SPARK_HOME/datasets/Viagem.csv')"
   ]
  },
  {
   "cell_type": "code",
   "execution_count": 125,
   "metadata": {
    "ExecuteTime": {
     "end_time": "2019-09-24T03:35:49.411689Z",
     "start_time": "2019-09-24T03:35:49.391786Z"
    }
   },
   "outputs": [
    {
     "data": {
      "text/plain": [
       "<bound method DataFrame.printSchema of DataFrame[Identificador do processo de viagem: string, Situação: string, Código do órgão superior: string, Nome do órgão superior: string, Código órgão solicitante: string, Nome órgão solicitante: string, CPF viajante: string, Nome: string, Cargo: string, Período - Data de início: string, Período - Data de fim: string, Destinos: string, Motivo: string, Valor diárias: string, Valor passagens: string, Valor outros gastos: string]>"
      ]
     },
     "execution_count": 125,
     "metadata": {},
     "output_type": "execute_result"
    }
   ],
   "source": [
    "df.printSchema"
   ]
  },
  {
   "cell_type": "code",
   "execution_count": 126,
   "metadata": {
    "ExecuteTime": {
     "end_time": "2019-09-24T03:35:49.595474Z",
     "start_time": "2019-09-24T03:35:49.417834Z"
    }
   },
   "outputs": [],
   "source": [
    "#converte decimal\n",
    "to_value = lambda v : Decimal(v.replace(\",\", \".\"))"
   ]
  },
  {
   "cell_type": "code",
   "execution_count": 127,
   "metadata": {
    "ExecuteTime": {
     "end_time": "2019-09-24T03:35:49.761642Z",
     "start_time": "2019-09-24T03:35:49.600696Z"
    }
   },
   "outputs": [],
   "source": [
    "udf_to_value = functions.udf(to_value)"
   ]
  },
  {
   "cell_type": "code",
   "execution_count": 128,
   "metadata": {
    "ExecuteTime": {
     "end_time": "2019-09-24T03:35:50.182755Z",
     "start_time": "2019-09-24T03:35:49.766321Z"
    }
   },
   "outputs": [],
   "source": [
    "df2 = df.withColumn(\"Max_por_org_sup\",    udf_to_value(df[\"Valor passagens\"]))\n",
    "df2 = df2.withColumn(\"Media_por_org_sup\", udf_to_value(df2[\"Valor passagens\"]))\n",
    "df2 = df2.withColumn(\"Min_por_org_sup\",   udf_to_value(df2[\"Valor passagens\"]))\n",
    "df2 = df2.withColumn(\"Total_por_org_sup\", udf_to_value(df2[\"Valor passagens\"]))\n",
    "\n",
    "df2 = df2.withColumn(\"Max_por_destinos\", udf_to_value(df2[\"Valor passagens\"]))\n",
    "df2 = df2.withColumn(\"Media_por_destinos\", udf_to_value(df2[\"Valor passagens\"]))\n",
    "df2 = df2.withColumn(\"Min_por_destinos\", udf_to_value(df2[\"Valor passagens\"]))\n",
    "df2 = df2.withColumn(\"Total_por_destinos\", udf_to_value(df2[\"Valor passagens\"]))\n",
    "\n",
    "df2 = df2.withColumn(\"Max_por_cargos\", udf_to_value(df2[\"Valor passagens\"]))\n",
    "df2 = df2.withColumn(\"Media_por_cargos\", udf_to_value(df2[\"Valor passagens\"]))\n",
    "df2 = df2.withColumn(\"Min_por_cargos\", udf_to_value(df2[\"Valor passagens\"]))\n",
    "df2 = df2.withColumn(\"Total_por_cargos\", udf_to_value(df2[\"Valor passagens\"]))\n",
    "\n"
   ]
  },
  {
   "cell_type": "code",
   "execution_count": 129,
   "metadata": {
    "ExecuteTime": {
     "end_time": "2019-09-24T03:35:50.203598Z",
     "start_time": "2019-09-24T03:35:50.184503Z"
    }
   },
   "outputs": [],
   "source": [
    "from pyspark.sql import functions as F "
   ]
  },
  {
   "cell_type": "code",
   "execution_count": 130,
   "metadata": {
    "ExecuteTime": {
     "end_time": "2019-09-24T03:36:11.233002Z",
     "start_time": "2019-09-24T03:35:50.233038Z"
    }
   },
   "outputs": [
    {
     "name": "stdout",
     "output_type": "stream",
     "text": [
      "+----------------------+--------------------+----------------------+--------------------+----------------------+\n",
      "|Nome do órgão superior|max(Max_por_org_sup)|avg(Media_por_org_sup)|min(Min_por_org_sup)|sum(Total_por_org_sup)|\n",
      "+----------------------+--------------------+----------------------+--------------------+----------------------+\n",
      "|  Advocacia-Geral d...|              994.57|    275.82561043065976|                0.00|    1396229.2399999998|\n",
      "|  Controladoria-Ger...|              998.71|     782.2714762979683|                0.00|    1732731.3199999998|\n",
      "|  Ministério da Agr...|             9981.38|     339.6013735431856|                0.00|     9645018.610000014|\n",
      "|  Ministério da Cid...|              998.58|     884.8200835654591|                0.00|     2858853.689999998|\n",
      "|  Ministério da Ciê...|              999.94|    1310.5361431438134|                0.00|     9796257.670000006|\n",
      "|  Ministério da Cul...|             3494.56|                2628.1|             1761.64|                5256.2|\n",
      "|  Ministério da Defesa|             9992.13|     611.9547257187058|                0.00|   4.195622795000019E7|\n",
      "|  Ministério da Eco...|              999.92|    356.06794092631577|                0.00|  1.8420106720000166E7|\n",
      "|  Ministério da Edu...|              999.87|    473.71835703368004|                0.00|   5.919726704999976E7|\n",
      "|  Ministério da Ind...|             9593.88|     3653.181067193675|                0.00|     924254.8099999998|\n",
      "|  Ministério da Inf...|              999.77|     916.4908847847942|                0.00|  1.1860308540000021E7|\n",
      "|  Ministério da Jus...|              999.94|    450.14296139822034|                0.00|   2.567795509000008E7|\n",
      "|  Ministério da Mul...|              991.92|     386.3859777885079|                0.00|    1600410.7199999997|\n",
      "|   Ministério da Saúde|              999.81|     716.4403656568603|                0.00|  1.9534463009999953E7|\n",
      "|  Ministério das Ci...|                0.00|                   0.0|                0.00|                   0.0|\n",
      "|  Ministério das Re...|              996.51|    3833.5663067784776|                0.00|  1.0971666770000003E7|\n",
      "|  Ministério de Min...|             9992.33|    1926.4351503759387|                0.00|     6661612.749999996|\n",
      "|  Ministério do Des...|              998.47|     566.4855655526987|                0.00|     2644354.619999998|\n",
      "|  Ministério do Esp...|             4570.50|              2901.815|             1706.28|              29018.15|\n",
      "|  Ministério do Mei...|              999.96|     438.3200405667923|                0.00|     7671477.349999999|\n",
      "+----------------------+--------------------+----------------------+--------------------+----------------------+\n",
      "only showing top 20 rows\n",
      "\n"
     ]
    }
   ],
   "source": [
    "df2.groupBy(\"Nome do órgão superior\").agg(F.max(\"Max_por_org_sup\"), \n",
    "                                          F.avg(\"Media_por_org_sup\"), \n",
    "                                          F.min(\"Min_por_org_sup\"), \n",
    "                                          F.sum(\"Total_por_org_sup\")).sort('Nome do órgão superior').show( truncate=True)"
   ]
  },
  {
   "cell_type": "code",
   "execution_count": 131,
   "metadata": {
    "ExecuteTime": {
     "end_time": "2019-09-24T03:36:33.594072Z",
     "start_time": "2019-09-24T03:36:11.238680Z"
    }
   },
   "outputs": [
    {
     "name": "stdout",
     "output_type": "stream",
     "text": [
      "+--------------------+---------------------+-----------------------+---------------------+-----------------------+\n",
      "|            Destinos|max(Max_por_destinos)|avg(Media_por_destinos)|min(Min_por_destinos)|sum(Total_por_destinos)|\n",
      "+--------------------+---------------------+-----------------------+---------------------+-----------------------+\n",
      "|    Aarhus/Dinamarca|              6169.18|               1233.836|                 0.00|                6169.18|\n",
      "|Aarhus/Dinamarca,...|                 0.00|                    0.0|                 0.00|                    0.0|\n",
      "|Abadia dos Dourad...|                 0.00|                    0.0|                 0.00|                    0.0|\n",
      "|        Abadiânia/GO|                 0.00|                    0.0|                 0.00|                    0.0|\n",
      "|Abadiânia/GO, Aba...|                 0.00|                    0.0|                 0.00|                    0.0|\n",
      "|Abadiânia/GO, Bra...|                 0.00|                    0.0|                 0.00|                    0.0|\n",
      "|       Abaetetuba/PA|               945.40|      81.46403726708074|                 0.00|               13115.71|\n",
      "|Abaetetuba/PA, Ac...|                 0.00|                    0.0|                 0.00|                    0.0|\n",
      "|Abaetetuba/PA, Ba...|                 0.00|                    0.0|                 0.00|                    0.0|\n",
      "|Abaetetuba/PA, Ba...|                 0.00|                    0.0|                 0.00|                    0.0|\n",
      "|Abaetetuba/PA, Ba...|                 0.00|                    0.0|                 0.00|                    0.0|\n",
      "|Abaetetuba/PA, Ca...|                 0.00|                    0.0|                 0.00|                    0.0|\n",
      "|Abaetetuba/PA, Ca...|                 0.00|                    0.0|                 0.00|                    0.0|\n",
      "|Abaetetuba/PA, Mo...|                 0.00|                    0.0|                 0.00|                    0.0|\n",
      "|Abaetetuba/PA, Mo...|                 0.00|                    0.0|                 0.00|                    0.0|\n",
      "|Abaetetuba/PA, Tu...|                 0.00|                    0.0|                 0.00|                    0.0|\n",
      "|           Abaeté/MG|                 0.00|                    0.0|                 0.00|                    0.0|\n",
      "|Abaeté/MG, Dores ...|                 0.00|                    0.0|                 0.00|                    0.0|\n",
      "|Abaeté/MG, Pitang...|                 0.00|                    0.0|                 0.00|                    0.0|\n",
      "|            Abaré/BA|                 0.00|                    0.0|                 0.00|                    0.0|\n",
      "+--------------------+---------------------+-----------------------+---------------------+-----------------------+\n",
      "only showing top 20 rows\n",
      "\n"
     ]
    }
   ],
   "source": [
    "df2.groupBy(\"Destinos\").agg(F.max(\"Max_por_destinos\"), \n",
    "                                          F.avg(\"Media_por_destinos\"), \n",
    "                                          F.min(\"Min_por_destinos\"), \n",
    "                                          F.sum(\"Total_por_destinos\")).sort('Destinos').show( truncate=True)"
   ]
  },
  {
   "cell_type": "code",
   "execution_count": 132,
   "metadata": {
    "ExecuteTime": {
     "end_time": "2019-09-24T03:36:55.108673Z",
     "start_time": "2019-09-24T03:36:33.597925Z"
    }
   },
   "outputs": [
    {
     "name": "stdout",
     "output_type": "stream",
     "text": [
      "+--------------------------------+-------------------+---------------------+-------------------+---------------------+\n",
      "|Cargo                           |max(Max_por_cargos)|avg(Media_por_cargos)|min(Min_por_cargos)|sum(Total_por_cargos)|\n",
      "+--------------------------------+-------------------+---------------------+-------------------+---------------------+\n",
      "|null                            |9992.33            |796.6471852601408    |0.00               |1.0470015296999925E8 |\n",
      "|AAD-AUX DE RECURSOS MATERIAIS   |2707.09            |1353.545             |0.00               |2707.09              |\n",
      "|AAD-AUXILIAR ADMINISTRATIVO     |0.00               |0.0                  |0.00               |0.0                  |\n",
      "|AAD-AUXILIAR DE OPERACOES       |0.00               |0.0                  |0.00               |0.0                  |\n",
      "|AAD-OPERADOR DE MICROCOMPUTADOR |0.00               |0.0                  |0.00               |0.0                  |\n",
      "|ADMINISTRACAO E PLANEJAMENTO    |2909.56            |2583.3466666666664   |2420.24            |7750.039999999999    |\n",
      "|ADMINISTRADOR                   |995.66             |511.0963355757816    |0.00               |1291540.4400000002   |\n",
      "|ADMINISTRADOR DE EDIFICIOS      |397.02             |11.028333333333332   |0.00               |397.02               |\n",
      "|ADMINISTRADOR DE EMPRESAS       |8033.12            |4574.889999999999    |2795.06            |13724.669999999998   |\n",
      "|ADMINISTRADOR I                 |809.23             |728.8068750000001    |0.00               |11660.910000000002   |\n",
      "|ADVOGADO                        |6675.63            |2499.117142857143    |0.00               |17493.82             |\n",
      "|ADVOGADO - 40H                  |833.18             |780.7099999999999    |0.00               |10149.23             |\n",
      "|ADVOGADO DA UNIAO               |996.39             |947.5433753148611    |0.00               |752349.4399999997    |\n",
      "|ADVOGADO I                      |738.31             |570.4187499999999    |0.00               |36506.799999999996   |\n",
      "|ADVOGADO SENIOR                 |612.36             |306.18               |0.00               |612.36               |\n",
      "|AGENTE ADMINISTRATIVO           |999.81             |552.4655127640848    |0.00               |2510403.2900000014   |\n",
      "|AGENTE ANALISTA DOCUMENTAL      |0.00               |0.0                  |0.00               |0.0                  |\n",
      "|AGENTE ANALISTA PUBLICO OFICIAIS|2340.64            |2340.64              |2340.64            |2340.64              |\n",
      "|AGENTE ATIV AGROPECUARIAS       |0.00               |0.0                  |0.00               |0.0                  |\n",
      "|AGENTE AUXILIAR DE SAUDE PUBLICA|0.00               |0.0                  |0.00               |0.0                  |\n",
      "+--------------------------------+-------------------+---------------------+-------------------+---------------------+\n",
      "only showing top 20 rows\n",
      "\n"
     ]
    }
   ],
   "source": [
    "df2.groupBy(\"Cargo\").agg(F.max(\"Max_por_cargos\"), \n",
    "                                          F.avg(\"Media_por_cargos\"), \n",
    "                                          F.min(\"Min_por_cargos\"), \n",
    "                                          F.sum(\"Total_por_cargos\")).sort('Cargo').show( truncate=False)"
   ]
  },
  {
   "cell_type": "code",
   "execution_count": 133,
   "metadata": {
    "ExecuteTime": {
     "end_time": "2019-09-24T03:36:55.199314Z",
     "start_time": "2019-09-24T03:36:55.108673Z"
    }
   },
   "outputs": [],
   "source": [
    "tabela_aggnm_sup = df2.groupBy(\"Nome do órgão superior\").agg(F.max(\"Max_por_org_sup\"), \n",
    "                                          F.avg(\"Media_por_org_sup\"), \n",
    "                                          F.min(\"Min_por_org_sup\"), \n",
    "                                          F.sum(\"Total_por_org_sup\")).sort('Nome do órgão superior')"
   ]
  },
  {
   "cell_type": "code",
   "execution_count": 134,
   "metadata": {
    "ExecuteTime": {
     "end_time": "2019-09-24T03:37:12.004319Z",
     "start_time": "2019-09-24T03:36:55.201428Z"
    }
   },
   "outputs": [],
   "source": [
    "export_tabela_aggnm_sup = tabela_aggnm_sup.rdd"
   ]
  },
  {
   "cell_type": "code",
   "execution_count": 135,
   "metadata": {
    "ExecuteTime": {
     "end_time": "2019-09-24T03:37:29.277866Z",
     "start_time": "2019-09-24T03:37:12.007490Z"
    }
   },
   "outputs": [],
   "source": [
    "export_tabela_aggnm_sup.saveAsTextFile('C:/SPARK_HOME/agg_por_org_sup')"
   ]
  },
  {
   "cell_type": "code",
   "execution_count": 136,
   "metadata": {
    "ExecuteTime": {
     "end_time": "2019-09-24T03:37:29.342778Z",
     "start_time": "2019-09-24T03:37:29.280730Z"
    }
   },
   "outputs": [],
   "source": [
    "tabela_aggnm_destino =df2.groupBy(\"Destinos\").agg(F.max(\"Max_por_destinos\"), \n",
    "                                          F.avg(\"Media_por_destinos\"), \n",
    "                                          F.min(\"Min_por_destinos\"), \n",
    "                                          F.sum(\"Total_por_destinos\")).sort('Destinos')"
   ]
  },
  {
   "cell_type": "code",
   "execution_count": 137,
   "metadata": {
    "ExecuteTime": {
     "end_time": "2019-09-24T03:37:52.583556Z",
     "start_time": "2019-09-24T03:37:29.345305Z"
    }
   },
   "outputs": [],
   "source": [
    "export_tabela_aggnm_destino = tabela_aggnm_destino.rdd"
   ]
  },
  {
   "cell_type": "code",
   "execution_count": 138,
   "metadata": {
    "ExecuteTime": {
     "end_time": "2019-09-24T03:40:53.748881Z",
     "start_time": "2019-09-24T03:37:52.586530Z"
    }
   },
   "outputs": [],
   "source": [
    "export_tabela_aggnm_destino.saveAsTextFile('C:/SPARK_HOME/agg_por_destinos')"
   ]
  },
  {
   "cell_type": "code",
   "execution_count": 139,
   "metadata": {
    "ExecuteTime": {
     "end_time": "2019-09-24T03:40:53.893773Z",
     "start_time": "2019-09-24T03:40:53.754482Z"
    }
   },
   "outputs": [],
   "source": [
    "tabela_aggnm_cargo =df2.groupBy(\"Cargo\").agg(F.max(\"Max_por_cargos\"), \n",
    "                                          F.avg(\"Media_por_cargos\"), \n",
    "                                          F.min(\"Min_por_cargos\"), \n",
    "                                          F.sum(\"Total_por_cargos\")).sort('Cargo')"
   ]
  },
  {
   "cell_type": "code",
   "execution_count": 140,
   "metadata": {
    "ExecuteTime": {
     "end_time": "2019-09-24T03:41:05.513799Z",
     "start_time": "2019-09-24T03:40:53.896173Z"
    }
   },
   "outputs": [],
   "source": [
    "export_tabela_aggnm_cargo = tabela_aggnm_cargo.rdd"
   ]
  },
  {
   "cell_type": "code",
   "execution_count": null,
   "metadata": {
    "ExecuteTime": {
     "start_time": "2019-09-24T03:41:19.538Z"
    }
   },
   "outputs": [],
   "source": [
    "export_tabela_aggnm_cargo.saveAsTextFile('C:/SPARK_HOME/agg_por_cargo')"
   ]
  },
  {
   "cell_type": "code",
   "execution_count": null,
   "metadata": {},
   "outputs": [],
   "source": []
  }
 ],
 "metadata": {
  "kernelspec": {
   "display_name": "Python 3",
   "language": "python",
   "name": "python3"
  },
  "language_info": {
   "codemirror_mode": {
    "name": "ipython",
    "version": 3
   },
   "file_extension": ".py",
   "mimetype": "text/x-python",
   "name": "python",
   "nbconvert_exporter": "python",
   "pygments_lexer": "ipython3",
   "version": "3.7.1"
  },
  "toc": {
   "base_numbering": 1,
   "nav_menu": {},
   "number_sections": true,
   "sideBar": true,
   "skip_h1_title": false,
   "title_cell": "Table of Contents",
   "title_sidebar": "Contents",
   "toc_cell": false,
   "toc_position": {},
   "toc_section_display": true,
   "toc_window_display": true
  },
  "varInspector": {
   "cols": {
    "lenName": 16,
    "lenType": 16,
    "lenVar": 40
   },
   "kernels_config": {
    "python": {
     "delete_cmd_postfix": "",
     "delete_cmd_prefix": "del ",
     "library": "var_list.py",
     "varRefreshCmd": "print(var_dic_list())"
    },
    "r": {
     "delete_cmd_postfix": ") ",
     "delete_cmd_prefix": "rm(",
     "library": "var_list.r",
     "varRefreshCmd": "cat(var_dic_list()) "
    }
   },
   "types_to_exclude": [
    "module",
    "function",
    "builtin_function_or_method",
    "instance",
    "_Feature"
   ],
   "window_display": false
  }
 },
 "nbformat": 4,
 "nbformat_minor": 2
}
